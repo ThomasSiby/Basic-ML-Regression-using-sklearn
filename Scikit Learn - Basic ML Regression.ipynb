{
 "cells": [
  {
   "cell_type": "markdown",
   "id": "01a79df3",
   "metadata": {},
   "source": [
    "# Sample Model\n",
    "\n",
    "https://ipython-books.github.io/81-getting-started-with-scikit-learn/"
   ]
  },
  {
   "cell_type": "markdown",
   "id": "9f89899f",
   "metadata": {},
   "source": [
    "1) First, let's make all the necessary imports:"
   ]
  },
  {
   "cell_type": "code",
   "execution_count": 1,
   "id": "2d3aac65",
   "metadata": {},
   "outputs": [],
   "source": [
    "import numpy as np\n",
    "import scipy.stats as st\n",
    "import sklearn.linear_model as lm\n",
    "import matplotlib.pyplot as plt\n",
    "%matplotlib inline"
   ]
  },
  {
   "cell_type": "markdown",
   "id": "41070ce2",
   "metadata": {},
   "source": [
    "2) We now define a deterministic nonlinear function underlying our generative model:"
   ]
  },
  {
   "cell_type": "code",
   "execution_count": 2,
   "id": "f9b2aa60",
   "metadata": {},
   "outputs": [],
   "source": [
    "def f(x):\n",
    "    return np.exp(3 * x)"
   ]
  },
  {
   "cell_type": "markdown",
   "id": "10b3b13a",
   "metadata": {},
   "source": [
    "3) We generate the values along the curve on [0,2]."
   ]
  },
  {
   "cell_type": "code",
   "execution_count": 3,
   "id": "564e3d2d",
   "metadata": {},
   "outputs": [],
   "source": [
    "x_tr = np.linspace(0., 2, 200)\n",
    "y_tr = f(x_tr)"
   ]
  },
  {
   "cell_type": "markdown",
   "id": "9c2a2bc9",
   "metadata": {},
   "source": [
    "4) Now, let's generate data points within [0,1]. We use the function f and we add some Gaussian noise."
   ]
  },
  {
   "cell_type": "code",
   "execution_count": 4,
   "id": "012e736b",
   "metadata": {},
   "outputs": [],
   "source": [
    "x = np.array([0, .1, .2, .5, .8, .9, 1])\n",
    "y = f(x) + 2 * np.random.randn(len(x))"
   ]
  },
  {
   "cell_type": "markdown",
   "id": "2fb9221d",
   "metadata": {},
   "source": [
    "5) Let's plot our data points on [0,1]."
   ]
  },
  {
   "cell_type": "code",
   "execution_count": 5,
   "id": "1c86bb63",
   "metadata": {},
   "outputs": [
    {
     "data": {
      "text/plain": [
       "Text(0.5, 1.0, 'Generative model')"
      ]
     },
     "execution_count": 5,
     "metadata": {},
     "output_type": "execute_result"
    },
    {
     "data": {
      "image/png": "[encoded data removed]",
      "text/plain": [
       "<Figure size 432x216 with 1 Axes>"
      ]
     },
     "metadata": {
      "needs_background": "light"
     },
     "output_type": "display_data"
    }
   ],
   "source": [
    "fig, ax = plt.subplots(1, 1, figsize=(6, 3))\n",
    "ax.plot(x_tr, y_tr, '--k')\n",
    "ax.plot(x, y, 'ok', ms=10)\n",
    "ax.set_xlim(0, 1.5)\n",
    "ax.set_ylim(-10, 80)\n",
    "ax.set_title('Generative model')"
   ]
  },
  {
   "cell_type": "markdown",
   "id": "9415acdc",
   "metadata": {},
   "source": [
    "In the image, the dotted curve represents the generative model."
   ]
  },
  {
   "cell_type": "markdown",
   "id": "294961ea",
   "metadata": {},
   "source": [
    "6) Now, we use scikit-learn to fit a linear model to the data. There are three steps. First, we create the model (an instance of the LinearRegression class). Then, we fit the model to our data. Finally, we predict values from our trained model."
   ]
  },
  {
   "cell_type": "code",
   "execution_count": 6,
   "id": "8627b2c5",
   "metadata": {},
   "outputs": [],
   "source": [
    "# We create the model.\n",
    "lr = lm.LinearRegression()\n",
    "# We train the model on our training dataset.\n",
    "lr.fit(x[:, np.newaxis], y)\n",
    "# Now, we predict points with our trained model.\n",
    "y_lr = lr.predict(x_tr[:, np.newaxis])"
   ]
  },
  {
   "cell_type": "markdown",
   "id": "78f5eb16",
   "metadata": {},
   "source": [
    "We need to convert x and x_tr to column vectors, as it is a general convention in scikit-learn that observations are rows, while features are columns. Here, we have seven observations with one feature."
   ]
  },
  {
   "cell_type": "markdown",
   "id": "e4166665",
   "metadata": {},
   "source": [
    "7)  We now plot the result of the trained linear model. We obtain a regression line in green here:"
   ]
  },
  {
   "cell_type": "code",
   "execution_count": 7,
   "id": "ba3eaf18",
   "metadata": {},
   "outputs": [
    {
     "data": {
      "text/plain": [
       "Text(0.5, 1.0, 'Linear regression')"
      ]
     },
     "execution_count": 7,
     "metadata": {},
     "output_type": "execute_result"
    },
    {
     "data": {
      "image/png": "[encoded data removed]",
      "text/plain": [
       "<Figure size 432x216 with 1 Axes>"
      ]
     },
     "metadata": {
      "needs_background": "light"
     },
     "output_type": "display_data"
    }
   ],
   "source": [
    "fig, ax = plt.subplots(1, 1, figsize=(6, 3))\n",
    "ax.plot(x_tr, y_tr, '--k')\n",
    "ax.plot(x_tr, y_lr, 'g')\n",
    "ax.plot(x, y, 'ok', ms=10)\n",
    "ax.set_xlim(0, 1.5)\n",
    "ax.set_ylim(-10, 80)\n",
    "ax.set_title(\"Linear regression\")"
   ]
  },
  {
   "cell_type": "markdown",
   "id": "0767f83a",
   "metadata": {},
   "source": [
    "8)  The linear fit is not well-adapted here, as the data points are generated according to a nonlinear model (an exponential curve). Therefore, we are now going to fit a nonlinear model. More precisely, we will fit a polynomial function to our data points. We can still use linear regression for this, by precomputing the exponents of our data points. This is done by generating a Vandermonde matrix, using the np.vander() function. We will explain this trick in How it works.... In the following code, we perform and plot the fit:"
   ]
  },
  {
   "cell_type": "code",
   "execution_count": 8,
   "id": "7f3ce35a",
   "metadata": {},
   "outputs": [
    {
     "name": "stdout",
     "output_type": "stream",
     "text": [
      "Coefficients, degree 2:\n",
      "\t 12.97 6.41 0.00\n",
      "Coefficients, degree 5:\n",
      "\t 1674.00 -4069.68 3370.20 -1061.54 108.91 0.00\n"
     ]
    },
    {
     "data": {
      "text/plain": [
       "Text(0.5, 1.0, 'Linear regression')"
      ]
     },
     "execution_count": 8,
     "metadata": {},
     "output_type": "execute_result"
    },
    {
     "data": {
      "image/png": "[encoded data removed]",
      "text/plain": [
       "<Figure size 432x216 with 1 Axes>"
      ]
     },
     "metadata": {
      "needs_background": "light"
     },
     "output_type": "display_data"
    }
   ],
   "source": [
    "lrp = lm.LinearRegression()\n",
    "fig, ax = plt.subplots(1, 1, figsize=(6, 3))\n",
    "ax.plot(x_tr, y_tr, '--k')\n",
    "\n",
    "for deg, s in zip([2, 5], ['-', '.']):\n",
    "    lrp.fit(np.vander(x, deg + 1), y)\n",
    "    y_lrp = lrp.predict(np.vander(x_tr, deg + 1))\n",
    "    ax.plot(x_tr, y_lrp, s,\n",
    "            label=f'degree {deg}')\n",
    "    ax.legend(loc=2)\n",
    "    ax.set_xlim(0, 1.5)\n",
    "    ax.set_ylim(-10, 80)\n",
    "    # Print the model's coefficients.\n",
    "    print(f'Coefficients, degree {deg}:\\n\\t',\n",
    "          ' '.join(f'{c:.2f}' for c in lrp.coef_))\n",
    "ax.plot(x, y, 'ok', ms=10)\n",
    "ax.set_title(\"Linear regression\")"
   ]
  },
  {
   "cell_type": "code",
   "execution_count": null,
   "id": "280e0658",
   "metadata": {},
   "outputs": [],
   "source": []
  }
 ],
 "metadata": {
  "kernelspec": {
   "display_name": "Python 3",
   "language": "python",
   "name": "python3"
  },
  "language_info": {
   "codemirror_mode": {
    "name": "ipython",
    "version": 3
   },
   "file_extension": ".py",
   "mimetype": "text/x-python",
   "name": "python",
   "nbconvert_exporter": "python",
   "pygments_lexer": "ipython3",
   "version": "3.8.8"
  }
 },
 "nbformat": 4,
 "nbformat_minor": 5
}
